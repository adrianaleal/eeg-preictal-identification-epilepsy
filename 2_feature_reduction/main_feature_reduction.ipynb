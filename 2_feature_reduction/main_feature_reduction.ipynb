{
 "cells": [
  {
   "cell_type": "code",
   "execution_count": 1,
   "metadata": {
    "collapsed": true
   },
   "outputs": [],
   "source": [
    "# Import\n",
    "import pandas as pd\n",
    "import os\n",
    "import numpy as np\n",
    "from sklearn.metrics import pairwise_distances\n",
    "import plotly.graph_objects as go\n",
    "from scipy.io import loadmat\n",
    "\n",
    "import dash\n",
    "from dash import dcc, html, Input, Output\n",
    "import plotly.express as px\n",
    "\n",
    "from eeg_preictal_analysis import EEGPreictalAnalysis\n",
    "eeg_class = EEGPreictalAnalysis()\n",
    "\n",
    "feature_group = 'Multivariate' # 'Multivariate' OR 'Univariate_linear' OR 'Univariate_nonlinear'"
   ]
  },
  {
   "cell_type": "code",
   "execution_count": 2,
   "outputs": [
    {
     "data": {
      "text/plain": "   Circular_correlation_theta_MS  WPLI_theta_A  Circular_correlation_alpha_A  \\\n0                       0.386524      0.875039                      0.092866   \n1                      -1.248267      0.883137                      0.534454   \n2                      -1.139668      0.858192                      1.613167   \n3                      -0.353413      0.156531                      0.628690   \n4                      -0.632802     -0.308169                     -1.228111   \n\n   Circular_correlation_gamma4_M  corr_max_xcorr_gamma1_MS  PSI_theta_M  \\\n0                      -0.012882                 -0.447170     0.002367   \n1                       0.375969                 -0.618571     0.002286   \n2                       1.286631                 -0.360051     0.002220   \n3                      -0.650807                 -0.534277     0.002248   \n4                       0.351604                 -0.532044     0.002354   \n\n   PSI_beta_M  WPLI_delta_WGCC  dWPLI_theta_M  corr_max_xcorr_beta_MS  ...  \\\n0   -0.022345        -0.586324      -0.278149               -0.690156  ...   \n1   -0.024906         1.426013       1.463987               -0.440878  ...   \n2   -0.021949        -1.347149       1.371240               -0.818520  ...   \n3   -0.022954        -0.924154      -0.002048               -0.569640  ...   \n4   -0.022189        -0.140931       0.624035               -0.815843  ...   \n\n   corr_max_xcorr_power_gamma1_MS  dWPLI_alpha_MS  ISPC_gamma1_M  \\\n0                       -0.540962       -0.695899       0.910444   \n1                       -0.403440       -0.361738       0.136503   \n2                       -0.470733       -0.539755       0.939651   \n3                       -0.540962       -0.695899       0.863091   \n4                       -0.540962        0.457747       0.102679   \n\n   WPLI_gamma2_CPL  Circular_correlation_gamma3_MCC  \\\n0        -0.535316                         1.028426   \n1        -0.174264                         1.185835   \n2         0.286355                         1.300484   \n3        -1.174883                        -0.320576   \n4        -0.677033                         0.384539   \n\n   Circular_correlation_gamma2_GE  Circular_correlation_theta_WGCC  \\\n0                       -0.038967                         0.544772   \n1                       -0.162812                        -1.157076   \n2                       -0.759442                        -1.055721   \n3                       -0.040507                        -0.600721   \n4                        0.275331                        -0.721538   \n\n   ISPC_gamma3_WGCC  ISPC_theta_M  ISPC_gamma2_WGCC  \n0         -0.885291      0.463175         -0.196247  \n1         -0.885291      1.433422         -0.561990  \n2         -0.885291      1.683544         -0.911392  \n3         -0.232456      0.533717         -0.463163  \n4         -0.410362      1.450525          0.320196  \n\n[5 rows x 387 columns]",
      "text/html": "<div>\n<style scoped>\n    .dataframe tbody tr th:only-of-type {\n        vertical-align: middle;\n    }\n\n    .dataframe tbody tr th {\n        vertical-align: top;\n    }\n\n    .dataframe thead th {\n        text-align: right;\n    }\n</style>\n<table border=\"1\" class=\"dataframe\">\n  <thead>\n    <tr style=\"text-align: right;\">\n      <th></th>\n      <th>Circular_correlation_theta_MS</th>\n      <th>WPLI_theta_A</th>\n      <th>Circular_correlation_alpha_A</th>\n      <th>Circular_correlation_gamma4_M</th>\n      <th>corr_max_xcorr_gamma1_MS</th>\n      <th>PSI_theta_M</th>\n      <th>PSI_beta_M</th>\n      <th>WPLI_delta_WGCC</th>\n      <th>dWPLI_theta_M</th>\n      <th>corr_max_xcorr_beta_MS</th>\n      <th>...</th>\n      <th>corr_max_xcorr_power_gamma1_MS</th>\n      <th>dWPLI_alpha_MS</th>\n      <th>ISPC_gamma1_M</th>\n      <th>WPLI_gamma2_CPL</th>\n      <th>Circular_correlation_gamma3_MCC</th>\n      <th>Circular_correlation_gamma2_GE</th>\n      <th>Circular_correlation_theta_WGCC</th>\n      <th>ISPC_gamma3_WGCC</th>\n      <th>ISPC_theta_M</th>\n      <th>ISPC_gamma2_WGCC</th>\n    </tr>\n  </thead>\n  <tbody>\n    <tr>\n      <th>0</th>\n      <td>0.386524</td>\n      <td>0.875039</td>\n      <td>0.092866</td>\n      <td>-0.012882</td>\n      <td>-0.447170</td>\n      <td>0.002367</td>\n      <td>-0.022345</td>\n      <td>-0.586324</td>\n      <td>-0.278149</td>\n      <td>-0.690156</td>\n      <td>...</td>\n      <td>-0.540962</td>\n      <td>-0.695899</td>\n      <td>0.910444</td>\n      <td>-0.535316</td>\n      <td>1.028426</td>\n      <td>-0.038967</td>\n      <td>0.544772</td>\n      <td>-0.885291</td>\n      <td>0.463175</td>\n      <td>-0.196247</td>\n    </tr>\n    <tr>\n      <th>1</th>\n      <td>-1.248267</td>\n      <td>0.883137</td>\n      <td>0.534454</td>\n      <td>0.375969</td>\n      <td>-0.618571</td>\n      <td>0.002286</td>\n      <td>-0.024906</td>\n      <td>1.426013</td>\n      <td>1.463987</td>\n      <td>-0.440878</td>\n      <td>...</td>\n      <td>-0.403440</td>\n      <td>-0.361738</td>\n      <td>0.136503</td>\n      <td>-0.174264</td>\n      <td>1.185835</td>\n      <td>-0.162812</td>\n      <td>-1.157076</td>\n      <td>-0.885291</td>\n      <td>1.433422</td>\n      <td>-0.561990</td>\n    </tr>\n    <tr>\n      <th>2</th>\n      <td>-1.139668</td>\n      <td>0.858192</td>\n      <td>1.613167</td>\n      <td>1.286631</td>\n      <td>-0.360051</td>\n      <td>0.002220</td>\n      <td>-0.021949</td>\n      <td>-1.347149</td>\n      <td>1.371240</td>\n      <td>-0.818520</td>\n      <td>...</td>\n      <td>-0.470733</td>\n      <td>-0.539755</td>\n      <td>0.939651</td>\n      <td>0.286355</td>\n      <td>1.300484</td>\n      <td>-0.759442</td>\n      <td>-1.055721</td>\n      <td>-0.885291</td>\n      <td>1.683544</td>\n      <td>-0.911392</td>\n    </tr>\n    <tr>\n      <th>3</th>\n      <td>-0.353413</td>\n      <td>0.156531</td>\n      <td>0.628690</td>\n      <td>-0.650807</td>\n      <td>-0.534277</td>\n      <td>0.002248</td>\n      <td>-0.022954</td>\n      <td>-0.924154</td>\n      <td>-0.002048</td>\n      <td>-0.569640</td>\n      <td>...</td>\n      <td>-0.540962</td>\n      <td>-0.695899</td>\n      <td>0.863091</td>\n      <td>-1.174883</td>\n      <td>-0.320576</td>\n      <td>-0.040507</td>\n      <td>-0.600721</td>\n      <td>-0.232456</td>\n      <td>0.533717</td>\n      <td>-0.463163</td>\n    </tr>\n    <tr>\n      <th>4</th>\n      <td>-0.632802</td>\n      <td>-0.308169</td>\n      <td>-1.228111</td>\n      <td>0.351604</td>\n      <td>-0.532044</td>\n      <td>0.002354</td>\n      <td>-0.022189</td>\n      <td>-0.140931</td>\n      <td>0.624035</td>\n      <td>-0.815843</td>\n      <td>...</td>\n      <td>-0.540962</td>\n      <td>0.457747</td>\n      <td>0.102679</td>\n      <td>-0.677033</td>\n      <td>0.384539</td>\n      <td>0.275331</td>\n      <td>-0.721538</td>\n      <td>-0.410362</td>\n      <td>1.450525</td>\n      <td>0.320196</td>\n    </tr>\n  </tbody>\n</table>\n<p>5 rows × 387 columns</p>\n</div>"
     },
     "execution_count": 2,
     "metadata": {},
     "output_type": "execute_result"
    }
   ],
   "source": [
    "## Prepare data to run feature reduction\n",
    "patient_index = 112802\n",
    "seizure_index = 6\n",
    "pat_seiz_data_folder = 'patient' + str(patient_index) + '_seizure' + str(seizure_index)\n",
    "\n",
    "# get current working directory\n",
    "wd = os.getcwd()\n",
    "\n",
    "# define dictionary for saving prepared features (save_flag=1 to save and save_flag=0 otherwise)\n",
    "save_dict = {'save_flag': 0, 'save_folder': ''}\n",
    "\n",
    "# get time data\n",
    "df_datetime_vector, indexes_5min_win2remove = eeg_class.prepare_time_data4feat_reduction(patient_index, seizure_index, pat_seiz_data_folder, save_dict)\n",
    "df_datetime_vector.head()\n",
    "\n",
    "# load patient information to get seizure onset date\n",
    "eeg_onset_seizure = eeg_class.get_seizure_onset(patient_index, seizure_index)\n",
    "\n",
    "df_time_min, df_time_h = eeg_class.get_time_data(df_datetime_vector, 'win_start_date', eeg_onset_seizure)\n",
    "\n",
    "\n",
    "get_minute_time_vector = 1\n",
    "\n",
    "if get_minute_time_vector == 1:\n",
    "    time_vec_minutes = df_time_min['time_min']\n",
    "    time_vector = time_vec_minutes*(-1)\n",
    "    tickvals_lst = [-10, -50, -100, -150, -200, time_vector[0]]\n",
    "    ticktext_lst = [-10, -50, -100, -150, -200, round(time_vector[0])]\n",
    "else:\n",
    "    time_vector = eeg_class.update_time_hour_night_transition(df_time_h)\n",
    "\n",
    "# prepare feature data for feature reduction\n",
    "df_seizure_data, original_feat_names, constant_feat_names, quasi_constant_feat_names = eeg_class.prepare_feature_data4feat_reduction(pat_seiz_data_folder, feature_group, indexes_5min_win2remove, save_dict)\n",
    "df_seizure_data.head()\n"
   ],
   "metadata": {
    "collapsed": false
   }
  },
  {
   "cell_type": "code",
   "execution_count": 3,
   "outputs": [
    {
     "name": "stdout",
     "output_type": "stream",
     "text": [
      "['clust_method', 'n_clusters', 'noisy_clusters', 'n_samples_smaller_cluster', 'DI', 'SI', 'OD', 'CS', 'C', 'DBI']\n"
     ]
    }
   ],
   "source": [
    "## Apply feature reduction, apply clustering methods and evaluate clustering solutions\n",
    "\n",
    "clust_methods = ['KMEANS_K2', 'KMEANS_K3', 'KMEANS_K4', 'AGGLO_HIER_K2', 'AGGLO_HIER_K3', 'AGGLO_HIER_K4', 'HDBSCAN0', 'GMM_K2', 'GMM_K3', 'GMM_K4']\n",
    "\n",
    "clust_eval = ['clust_method', 'n_clusters', 'noisy_clusters', 'n_samples_smaller_cluster', 'DI', 'SI', 'OD', 'CS', 'C', 'DBI']\n",
    "\n",
    "print(clust_eval)"
   ],
   "metadata": {
    "collapsed": false
   }
  },
  {
   "cell_type": "code",
   "execution_count": null,
   "outputs": [
    {
     "name": "stdout",
     "output_type": "stream",
     "text": [
      "Dash is running on http://127.0.0.1:8050/\n",
      "\n",
      " * Serving Flask app \"__main__\" (lazy loading)\n",
      " * Environment: production\n",
      "\u001B[31m   WARNING: This is a development server. Do not use it in a production deployment.\u001B[0m\n",
      "\u001B[2m   Use a production WSGI server instead.\u001B[0m\n",
      " * Debug mode: off\n"
     ]
    },
    {
     "name": "stderr",
     "output_type": "stream",
     "text": [
      " * Running on http://127.0.0.1:8050/ (Press CTRL+C to quit)\n"
     ]
    }
   ],
   "source": [
    "df_pca, pca = eeg_class.pca_feature_reduction(df_seizure_data)\n",
    "df_pca.head()\n",
    "\n",
    "distances_matrix = pairwise_distances(df_pca)\n",
    "clustering_method = 'DBSCAN_D3'\n",
    "clustering_solution = eeg_class.perform_clustering(df_pca, clustering_method)\n",
    "eval_list = eeg_class.cluster_evaluation_indexes(df_pca, clustering_solution, distances_matrix)\n",
    "explained_variance = sum(pca.explained_variance_ratio_)\n",
    "\n",
    "import plotly.express as px\n",
    "fig = go.Figure(data=[go.Scatter3d(x=df_pca['PC1'], y=df_pca['PC2'], z=df_pca['PC3'], mode='markers',\n",
    "                                   marker=dict(size=3, color=time_vector, colorscale='Viridis', showscale=True,\n",
    "                                           colorbar=dict(len=0.3, x=0, y=0.84, titleside='right', thickness=20,\n",
    "                                                         title='<b>Time before seizure (min)<b>', outlinewidth=1,\n",
    "                                                         titlefont=dict(size=12), tickmode='array',\n",
    "                                                         tickvals=tickvals_lst, ticktext=ticktext_lst,\n",
    "                                                         ticklabelposition='outside')))])\n",
    "\n",
    "\n",
    "# tight layout\n",
    "fig.update_layout(margin=dict(l=0, r=0, b=0, t=0))\n",
    "fig.show()\n",
    "\n"
   ],
   "metadata": {
    "collapsed": false,
    "pycharm": {
     "is_executing": true
    }
   }
  },
  {
   "cell_type": "code",
   "execution_count": null,
   "outputs": [],
   "source": [
    "# t-SNE\n",
    "list_perplexity = np.arange(10, 110, 10)\n",
    "tc1 = []\n",
    "tc2 = []\n",
    "tc3 = []\n",
    "dic_tsne_clust_results = []\n",
    "for perplexity in list_perplexity:\n",
    "\n",
    "    df_tsne, array_tsne = eeg_class.tsne_feature_reduction(df_seizure_data, perplexity)\n",
    "\n",
    "    tc1.append(array_tsne[:, 0])\n",
    "    tc2.append(array_tsne[:, 1])\n",
    "    tc3.append(array_tsne[:, 2])\n",
    "\n",
    "    # get pairwise distances between samples\n",
    "    distances_matrix = pairwise_distances(df_tsne)\n",
    "\n",
    "    # start_time = datetime.now()\n",
    "    for cm in clust_methods:\n",
    "        # print({p}, {s}, {cm}, 'tsne', {perplexity})\n",
    "        clustering_solution = eeg_class.perform_clustering(df_tsne, cm)\n",
    "\n",
    "        eval_list = eeg_class.cluster_evaluation_indexes(df_tsne, clustering_solution, distances_matrix)\n",
    "        dic_tsne_clust_results.append([perplexity, cm.lower()] + eval_list)\n",
    "\n",
    "lst_string_perplexity = list(map(str, list_perplexity.tolist()))\n",
    "df_tc1 = pd.DataFrame(tc1).transpose()\n",
    "df_tc1.columns = lst_string_perplexity\n",
    "df_tc2 = pd.DataFrame(tc2).transpose()\n",
    "df_tc2.columns = lst_string_perplexity\n",
    "df_tc3 = pd.DataFrame(tc3).transpose()\n",
    "df_tc3.columns = lst_string_perplexity\n",
    "df_tsne_clust_results = pd.DataFrame(dic_tsne_clust_results, columns=['perplexity'] + clust_eval)\n"
   ],
   "metadata": {
    "collapsed": false,
    "pycharm": {
     "is_executing": true
    }
   }
  },
  {
   "cell_type": "code",
   "execution_count": null,
   "outputs": [],
   "source": [
    "# UMAP\n",
    "n_neighbours_vec = np.arange(10, 110, 10)\n",
    "min_dist_vec = np.round(np.arange(0.1, 1.0, 0.1), 2)\n",
    "uc1 = []\n",
    "uc2 = []\n",
    "uc3 = []\n",
    "dic_umap_clust_results = []\n",
    "lst_header = []\n",
    "for n_neighbours in n_neighbours_vec:\n",
    "    for min_dist in min_dist_vec:\n",
    "\n",
    "        lst_header.append(str(n_neighbours) + '_' + str(min_dist))\n",
    "\n",
    "        df_umap, array_umap = eeg_class.umap_feature_reduction(df_seizure_data, n_neighbours, min_dist)\n",
    "\n",
    "        uc1.append(array_umap[:, 0])\n",
    "        uc2.append(array_umap[:, 1])\n",
    "        uc3.append(array_umap[:, 2])\n",
    "\n",
    "        # get pairwise distances between samples\n",
    "        distances_matrix = pairwise_distances(df_umap)\n",
    "\n",
    "        # start_time = datetime.now()\n",
    "        for cm in clust_methods:\n",
    "            # print({p}, {s}, {cm}, 'umap', {n_neighbours}, {min_dist})\n",
    "            clustering_solution = eeg_class.perform_clustering(df_umap, cm)\n",
    "\n",
    "            eval_list = eeg_class.cluster_evaluation_indexes(df_umap, clustering_solution, distances_matrix)\n",
    "\n",
    "            dic_umap_clust_results.append([n_neighbours, min_dist, cm.lower()] + eval_list)\n",
    "            # print('end clustering')\n",
    "        # print('end all clustering methods in umap')\n",
    "\n",
    "df_uc1 = pd.DataFrame(uc1).transpose()\n",
    "df_uc1.columns = lst_header\n",
    "df_uc2 = pd.DataFrame(uc2).transpose()\n",
    "df_uc2.columns = lst_header\n",
    "df_uc3 = pd.DataFrame(uc3).transpose()\n",
    "df_uc3.columns = lst_header\n",
    "\n",
    "df_umap_clust_results = pd.DataFrame(dic_umap_clust_results, columns=['n_neighbors', 'min_dist'] + clust_eval)"
   ],
   "metadata": {
    "collapsed": false,
    "pycharm": {
     "is_executing": true
    }
   }
  }
 ],
 "metadata": {
  "kernelspec": {
   "display_name": "Python 3",
   "language": "python",
   "name": "python3"
  },
  "language_info": {
   "codemirror_mode": {
    "name": "ipython",
    "version": 2
   },
   "file_extension": ".py",
   "mimetype": "text/x-python",
   "name": "python",
   "nbconvert_exporter": "python",
   "pygments_lexer": "ipython2",
   "version": "2.7.6"
  }
 },
 "nbformat": 4,
 "nbformat_minor": 0
}
